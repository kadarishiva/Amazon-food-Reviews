{
  "nbformat": 4,
  "nbformat_minor": 0,
  "metadata": {
    "colab": {
      "provenance": [],
      "authorship_tag": "ABX9TyN/hpOSLdnkjI8pDQDMIM28",
      "include_colab_link": true
    },
    "kernelspec": {
      "name": "python3",
      "display_name": "Python 3"
    },
    "language_info": {
      "name": "python"
    },
    "widgets": {
      "application/vnd.jupyter.widget-state+json": {
        "3b5afa90fe654949a116a2df799f546c": {
          "model_module": "@jupyter-widgets/controls",
          "model_name": "HBoxModel",
          "model_module_version": "1.5.0",
          "state": {
            "_dom_classes": [],
            "_model_module": "@jupyter-widgets/controls",
            "_model_module_version": "1.5.0",
            "_model_name": "HBoxModel",
            "_view_count": null,
            "_view_module": "@jupyter-widgets/controls",
            "_view_module_version": "1.5.0",
            "_view_name": "HBoxView",
            "box_style": "",
            "children": [
              "IPY_MODEL_676bfc4542674926be71ad835724b342",
              "IPY_MODEL_5debcd90099549ecb35841c83fe920cb",
              "IPY_MODEL_60c798a95a9d48c5a4461d99951d6c65"
            ],
            "layout": "IPY_MODEL_52cba19854b34445b37ab58afb8bbd5c"
          }
        },
        "676bfc4542674926be71ad835724b342": {
          "model_module": "@jupyter-widgets/controls",
          "model_name": "HTMLModel",
          "model_module_version": "1.5.0",
          "state": {
            "_dom_classes": [],
            "_model_module": "@jupyter-widgets/controls",
            "_model_module_version": "1.5.0",
            "_model_name": "HTMLModel",
            "_view_count": null,
            "_view_module": "@jupyter-widgets/controls",
            "_view_module_version": "1.5.0",
            "_view_name": "HTMLView",
            "description": "",
            "description_tooltip": null,
            "layout": "IPY_MODEL_617211a4219a41fe8333c4017fbb29c7",
            "placeholder": "​",
            "style": "IPY_MODEL_991fa7c0c99a4f8a858e204e7b25b9be",
            "value": "100%"
          }
        },
        "5debcd90099549ecb35841c83fe920cb": {
          "model_module": "@jupyter-widgets/controls",
          "model_name": "FloatProgressModel",
          "model_module_version": "1.5.0",
          "state": {
            "_dom_classes": [],
            "_model_module": "@jupyter-widgets/controls",
            "_model_module_version": "1.5.0",
            "_model_name": "FloatProgressModel",
            "_view_count": null,
            "_view_module": "@jupyter-widgets/controls",
            "_view_module_version": "1.5.0",
            "_view_name": "ProgressView",
            "bar_style": "success",
            "description": "",
            "description_tooltip": null,
            "layout": "IPY_MODEL_b3c0a711e2f24604b92e033ea3a455fb",
            "max": 5000,
            "min": 0,
            "orientation": "horizontal",
            "style": "IPY_MODEL_c9249edd346f4df3916f2c4c8dc49eac",
            "value": 5000
          }
        },
        "60c798a95a9d48c5a4461d99951d6c65": {
          "model_module": "@jupyter-widgets/controls",
          "model_name": "HTMLModel",
          "model_module_version": "1.5.0",
          "state": {
            "_dom_classes": [],
            "_model_module": "@jupyter-widgets/controls",
            "_model_module_version": "1.5.0",
            "_model_name": "HTMLModel",
            "_view_count": null,
            "_view_module": "@jupyter-widgets/controls",
            "_view_module_version": "1.5.0",
            "_view_name": "HTMLView",
            "description": "",
            "description_tooltip": null,
            "layout": "IPY_MODEL_8e1d4d70859a4a1da908f62740cd68b4",
            "placeholder": "​",
            "style": "IPY_MODEL_51534f7a556a4d468fb3709e8d30b98a",
            "value": " 5000/5000 [00:07&lt;00:00, 865.25it/s]"
          }
        },
        "52cba19854b34445b37ab58afb8bbd5c": {
          "model_module": "@jupyter-widgets/base",
          "model_name": "LayoutModel",
          "model_module_version": "1.2.0",
          "state": {
            "_model_module": "@jupyter-widgets/base",
            "_model_module_version": "1.2.0",
            "_model_name": "LayoutModel",
            "_view_count": null,
            "_view_module": "@jupyter-widgets/base",
            "_view_module_version": "1.2.0",
            "_view_name": "LayoutView",
            "align_content": null,
            "align_items": null,
            "align_self": null,
            "border": null,
            "bottom": null,
            "display": null,
            "flex": null,
            "flex_flow": null,
            "grid_area": null,
            "grid_auto_columns": null,
            "grid_auto_flow": null,
            "grid_auto_rows": null,
            "grid_column": null,
            "grid_gap": null,
            "grid_row": null,
            "grid_template_areas": null,
            "grid_template_columns": null,
            "grid_template_rows": null,
            "height": null,
            "justify_content": null,
            "justify_items": null,
            "left": null,
            "margin": null,
            "max_height": null,
            "max_width": null,
            "min_height": null,
            "min_width": null,
            "object_fit": null,
            "object_position": null,
            "order": null,
            "overflow": null,
            "overflow_x": null,
            "overflow_y": null,
            "padding": null,
            "right": null,
            "top": null,
            "visibility": null,
            "width": null
          }
        },
        "617211a4219a41fe8333c4017fbb29c7": {
          "model_module": "@jupyter-widgets/base",
          "model_name": "LayoutModel",
          "model_module_version": "1.2.0",
          "state": {
            "_model_module": "@jupyter-widgets/base",
            "_model_module_version": "1.2.0",
            "_model_name": "LayoutModel",
            "_view_count": null,
            "_view_module": "@jupyter-widgets/base",
            "_view_module_version": "1.2.0",
            "_view_name": "LayoutView",
            "align_content": null,
            "align_items": null,
            "align_self": null,
            "border": null,
            "bottom": null,
            "display": null,
            "flex": null,
            "flex_flow": null,
            "grid_area": null,
            "grid_auto_columns": null,
            "grid_auto_flow": null,
            "grid_auto_rows": null,
            "grid_column": null,
            "grid_gap": null,
            "grid_row": null,
            "grid_template_areas": null,
            "grid_template_columns": null,
            "grid_template_rows": null,
            "height": null,
            "justify_content": null,
            "justify_items": null,
            "left": null,
            "margin": null,
            "max_height": null,
            "max_width": null,
            "min_height": null,
            "min_width": null,
            "object_fit": null,
            "object_position": null,
            "order": null,
            "overflow": null,
            "overflow_x": null,
            "overflow_y": null,
            "padding": null,
            "right": null,
            "top": null,
            "visibility": null,
            "width": null
          }
        },
        "991fa7c0c99a4f8a858e204e7b25b9be": {
          "model_module": "@jupyter-widgets/controls",
          "model_name": "DescriptionStyleModel",
          "model_module_version": "1.5.0",
          "state": {
            "_model_module": "@jupyter-widgets/controls",
            "_model_module_version": "1.5.0",
            "_model_name": "DescriptionStyleModel",
            "_view_count": null,
            "_view_module": "@jupyter-widgets/base",
            "_view_module_version": "1.2.0",
            "_view_name": "StyleView",
            "description_width": ""
          }
        },
        "b3c0a711e2f24604b92e033ea3a455fb": {
          "model_module": "@jupyter-widgets/base",
          "model_name": "LayoutModel",
          "model_module_version": "1.2.0",
          "state": {
            "_model_module": "@jupyter-widgets/base",
            "_model_module_version": "1.2.0",
            "_model_name": "LayoutModel",
            "_view_count": null,
            "_view_module": "@jupyter-widgets/base",
            "_view_module_version": "1.2.0",
            "_view_name": "LayoutView",
            "align_content": null,
            "align_items": null,
            "align_self": null,
            "border": null,
            "bottom": null,
            "display": null,
            "flex": null,
            "flex_flow": null,
            "grid_area": null,
            "grid_auto_columns": null,
            "grid_auto_flow": null,
            "grid_auto_rows": null,
            "grid_column": null,
            "grid_gap": null,
            "grid_row": null,
            "grid_template_areas": null,
            "grid_template_columns": null,
            "grid_template_rows": null,
            "height": null,
            "justify_content": null,
            "justify_items": null,
            "left": null,
            "margin": null,
            "max_height": null,
            "max_width": null,
            "min_height": null,
            "min_width": null,
            "object_fit": null,
            "object_position": null,
            "order": null,
            "overflow": null,
            "overflow_x": null,
            "overflow_y": null,
            "padding": null,
            "right": null,
            "top": null,
            "visibility": null,
            "width": null
          }
        },
        "c9249edd346f4df3916f2c4c8dc49eac": {
          "model_module": "@jupyter-widgets/controls",
          "model_name": "ProgressStyleModel",
          "model_module_version": "1.5.0",
          "state": {
            "_model_module": "@jupyter-widgets/controls",
            "_model_module_version": "1.5.0",
            "_model_name": "ProgressStyleModel",
            "_view_count": null,
            "_view_module": "@jupyter-widgets/base",
            "_view_module_version": "1.2.0",
            "_view_name": "StyleView",
            "bar_color": null,
            "description_width": ""
          }
        },
        "8e1d4d70859a4a1da908f62740cd68b4": {
          "model_module": "@jupyter-widgets/base",
          "model_name": "LayoutModel",
          "model_module_version": "1.2.0",
          "state": {
            "_model_module": "@jupyter-widgets/base",
            "_model_module_version": "1.2.0",
            "_model_name": "LayoutModel",
            "_view_count": null,
            "_view_module": "@jupyter-widgets/base",
            "_view_module_version": "1.2.0",
            "_view_name": "LayoutView",
            "align_content": null,
            "align_items": null,
            "align_self": null,
            "border": null,
            "bottom": null,
            "display": null,
            "flex": null,
            "flex_flow": null,
            "grid_area": null,
            "grid_auto_columns": null,
            "grid_auto_flow": null,
            "grid_auto_rows": null,
            "grid_column": null,
            "grid_gap": null,
            "grid_row": null,
            "grid_template_areas": null,
            "grid_template_columns": null,
            "grid_template_rows": null,
            "height": null,
            "justify_content": null,
            "justify_items": null,
            "left": null,
            "margin": null,
            "max_height": null,
            "max_width": null,
            "min_height": null,
            "min_width": null,
            "object_fit": null,
            "object_position": null,
            "order": null,
            "overflow": null,
            "overflow_x": null,
            "overflow_y": null,
            "padding": null,
            "right": null,
            "top": null,
            "visibility": null,
            "width": null
          }
        },
        "51534f7a556a4d468fb3709e8d30b98a": {
          "model_module": "@jupyter-widgets/controls",
          "model_name": "DescriptionStyleModel",
          "model_module_version": "1.5.0",
          "state": {
            "_model_module": "@jupyter-widgets/controls",
            "_model_module_version": "1.5.0",
            "_model_name": "DescriptionStyleModel",
            "_view_count": null,
            "_view_module": "@jupyter-widgets/base",
            "_view_module_version": "1.2.0",
            "_view_name": "StyleView",
            "description_width": ""
          }
        }
      }
    }
  },
  "cells": [
    {
      "cell_type": "markdown",
      "metadata": {
        "id": "view-in-github",
        "colab_type": "text"
      },
      "source": [
        "<a href=\"https://colab.research.google.com/github/kadarishiva/Amazon-food-Reviews/blob/main/Big_data_analytics.ipynb\" target=\"_parent\"><img src=\"https://colab.research.google.com/assets/colab-badge.svg\" alt=\"Open In Colab\"/></a>"
      ]
    },
    {
      "cell_type": "markdown",
      "source": [
        "# End-T:o-End NLP Pipeline for Amazon food Reviews."
      ],
      "metadata": {
        "id": "YI8dtJFIMw1A"
      }
    },
    {
      "cell_type": "markdown",
      "source": [
        "I'm constructing an NLP Pipeline for Amazon food evaluations. Amazon needs to know about food product reviews and rating scores in order to improve product quality. With the use of this pipeline, Amazon can discover how the sentiment of customer reviews varies across different food products and how customer reviews can help forecast food product ratings."
      ],
      "metadata": {
        "id": "m2EDBGh7M1S8"
      }
    },
    {
      "cell_type": "markdown",
      "source": [
        "Dataset reference: https://www.kaggle.com/datasets/snap/amazon-fine-food-reviews"
      ],
      "metadata": {
        "id": "gd_KXqoZM5sd"
      }
    },
    {
      "cell_type": "code",
      "execution_count": null,
      "metadata": {
        "id": "SAX9_v6pHaRi"
      },
      "outputs": [],
      "source": [
        "import pandas as pd\n",
        "import numpy as np\n",
        "import matplotlib.pyplot as plt\n",
        "import seaborn as sns\n",
        "import nltk\n",
        "import sklearn.model_selection\n",
        "from sklearn import svm\n",
        "import sklearn.tree as DecisionTreeClassifier\n",
        "import nltk\n",
        "from nltk.sentiment import SentimentIntensityAnalyzer\n",
        "from tqdm.notebook import tqdm\n",
        "from imblearn.over_sampling import SMOTE\n",
        "import sklearn.neural_network\n",
        "import sklearn.ensemble"
      ]
    },
    {
      "cell_type": "markdown",
      "source": [
        "Imported the requird packages to carry out the operations."
      ],
      "metadata": {
        "id": "3WXd4KuLNKo0"
      }
    },
    {
      "cell_type": "code",
      "source": [
        "df = pd.read_csv(\"/content/Reviews.csv\", low_memory=False )\n",
        "df = df.sample(n=5000)\n",
        "df = df.reset_index(drop=True)\n",
        "print(df.shape)\n",
        "df.head()"
      ],
      "metadata": {
        "colab": {
          "base_uri": "https://localhost:8080/",
          "height": 669
        },
        "id": "8szNKdTiIKtF",
        "outputId": "41b97db1-984b-4cb6-df6f-34736bc4be7b"
      },
      "execution_count": null,
      "outputs": [
        {
          "output_type": "stream",
          "name": "stdout",
          "text": [
            "(5000, 12)\n"
          ]
        },
        {
          "output_type": "execute_result",
          "data": {
            "text/plain": [
              "       Id   ProductId          UserId    ProfileName  HelpfulnessNumerator  \\\n",
              "0  552407  B0007OPW5C  A1B495BL1P3SNC         Y. Kim                     5   \n",
              "1  499896  B009B87SAC  A24SLSJXS37KDL    Judy Fields                     0   \n",
              "2  174592  B004727PFK  A1Y6YLMUA88TV7      J. Shaath                     4   \n",
              "3   48230  B004SRH2B6  A30Y6933LWCQTH  Dragon Slayer                     0   \n",
              "4  514531  B000CQ6KTM  A29YHQ98XH1KD6      Johnny Os                     2   \n",
              "\n",
              "   HelpfulnessDenominator  Score        Time  \\\n",
              "0                      18      4  1150329600   \n",
              "1                       0      5  1334188800   \n",
              "2                       4      5  1303430400   \n",
              "3                       7      1  1290902400   \n",
              "4                       4      5  1199577600   \n",
              "\n",
              "                                Summary  \\\n",
              "0                       GREAT SHIPPINGG   \n",
              "1          Hills Science Diet Oral Care   \n",
              "2                      GF Spaghetti-O's   \n",
              "3  This is coconut \"water\" not \"juice\".   \n",
              "4      Best organic Mac & Cheese around   \n",
              "\n",
              "                                                Text  Unnamed: 10 Unnamed: 11  \n",
              "0  the shipping was great, the seller is AWESOME ...          NaN         NaN  \n",
              "1  My cat loves this cat food! He likes the big c...          NaN         NaN  \n",
              "2  I love this product.  I have tried multiple pa...          NaN         NaN  \n",
              "3  I misread the label.  I was looking for real j...          NaN         NaN  \n",
              "4  My local grocer always sells out of this stuff...          NaN         NaN  "
            ],
            "text/html": [
              "\n",
              "  <div id=\"df-59f420bb-67ae-442b-9ad2-37c51b4bb68a\">\n",
              "    <div class=\"colab-df-container\">\n",
              "      <div>\n",
              "<style scoped>\n",
              "    .dataframe tbody tr th:only-of-type {\n",
              "        vertical-align: middle;\n",
              "    }\n",
              "\n",
              "    .dataframe tbody tr th {\n",
              "        vertical-align: top;\n",
              "    }\n",
              "\n",
              "    .dataframe thead th {\n",
              "        text-align: right;\n",
              "    }\n",
              "</style>\n",
              "<table border=\"1\" class=\"dataframe\">\n",
              "  <thead>\n",
              "    <tr style=\"text-align: right;\">\n",
              "      <th></th>\n",
              "      <th>Id</th>\n",
              "      <th>ProductId</th>\n",
              "      <th>UserId</th>\n",
              "      <th>ProfileName</th>\n",
              "      <th>HelpfulnessNumerator</th>\n",
              "      <th>HelpfulnessDenominator</th>\n",
              "      <th>Score</th>\n",
              "      <th>Time</th>\n",
              "      <th>Summary</th>\n",
              "      <th>Text</th>\n",
              "      <th>Unnamed: 10</th>\n",
              "      <th>Unnamed: 11</th>\n",
              "    </tr>\n",
              "  </thead>\n",
              "  <tbody>\n",
              "    <tr>\n",
              "      <th>0</th>\n",
              "      <td>552407</td>\n",
              "      <td>B0007OPW5C</td>\n",
              "      <td>A1B495BL1P3SNC</td>\n",
              "      <td>Y. Kim</td>\n",
              "      <td>5</td>\n",
              "      <td>18</td>\n",
              "      <td>4</td>\n",
              "      <td>1150329600</td>\n",
              "      <td>GREAT SHIPPINGG</td>\n",
              "      <td>the shipping was great, the seller is AWESOME ...</td>\n",
              "      <td>NaN</td>\n",
              "      <td>NaN</td>\n",
              "    </tr>\n",
              "    <tr>\n",
              "      <th>1</th>\n",
              "      <td>499896</td>\n",
              "      <td>B009B87SAC</td>\n",
              "      <td>A24SLSJXS37KDL</td>\n",
              "      <td>Judy Fields</td>\n",
              "      <td>0</td>\n",
              "      <td>0</td>\n",
              "      <td>5</td>\n",
              "      <td>1334188800</td>\n",
              "      <td>Hills Science Diet Oral Care</td>\n",
              "      <td>My cat loves this cat food! He likes the big c...</td>\n",
              "      <td>NaN</td>\n",
              "      <td>NaN</td>\n",
              "    </tr>\n",
              "    <tr>\n",
              "      <th>2</th>\n",
              "      <td>174592</td>\n",
              "      <td>B004727PFK</td>\n",
              "      <td>A1Y6YLMUA88TV7</td>\n",
              "      <td>J. Shaath</td>\n",
              "      <td>4</td>\n",
              "      <td>4</td>\n",
              "      <td>5</td>\n",
              "      <td>1303430400</td>\n",
              "      <td>GF Spaghetti-O's</td>\n",
              "      <td>I love this product.  I have tried multiple pa...</td>\n",
              "      <td>NaN</td>\n",
              "      <td>NaN</td>\n",
              "    </tr>\n",
              "    <tr>\n",
              "      <th>3</th>\n",
              "      <td>48230</td>\n",
              "      <td>B004SRH2B6</td>\n",
              "      <td>A30Y6933LWCQTH</td>\n",
              "      <td>Dragon Slayer</td>\n",
              "      <td>0</td>\n",
              "      <td>7</td>\n",
              "      <td>1</td>\n",
              "      <td>1290902400</td>\n",
              "      <td>This is coconut \"water\" not \"juice\".</td>\n",
              "      <td>I misread the label.  I was looking for real j...</td>\n",
              "      <td>NaN</td>\n",
              "      <td>NaN</td>\n",
              "    </tr>\n",
              "    <tr>\n",
              "      <th>4</th>\n",
              "      <td>514531</td>\n",
              "      <td>B000CQ6KTM</td>\n",
              "      <td>A29YHQ98XH1KD6</td>\n",
              "      <td>Johnny Os</td>\n",
              "      <td>2</td>\n",
              "      <td>4</td>\n",
              "      <td>5</td>\n",
              "      <td>1199577600</td>\n",
              "      <td>Best organic Mac &amp; Cheese around</td>\n",
              "      <td>My local grocer always sells out of this stuff...</td>\n",
              "      <td>NaN</td>\n",
              "      <td>NaN</td>\n",
              "    </tr>\n",
              "  </tbody>\n",
              "</table>\n",
              "</div>\n",
              "      <button class=\"colab-df-convert\" onclick=\"convertToInteractive('df-59f420bb-67ae-442b-9ad2-37c51b4bb68a')\"\n",
              "              title=\"Convert this dataframe to an interactive table.\"\n",
              "              style=\"display:none;\">\n",
              "        \n",
              "  <svg xmlns=\"http://www.w3.org/2000/svg\" height=\"24px\"viewBox=\"0 0 24 24\"\n",
              "       width=\"24px\">\n",
              "    <path d=\"M0 0h24v24H0V0z\" fill=\"none\"/>\n",
              "    <path d=\"M18.56 5.44l.94 2.06.94-2.06 2.06-.94-2.06-.94-.94-2.06-.94 2.06-2.06.94zm-11 1L8.5 8.5l.94-2.06 2.06-.94-2.06-.94L8.5 2.5l-.94 2.06-2.06.94zm10 10l.94 2.06.94-2.06 2.06-.94-2.06-.94-.94-2.06-.94 2.06-2.06.94z\"/><path d=\"M17.41 7.96l-1.37-1.37c-.4-.4-.92-.59-1.43-.59-.52 0-1.04.2-1.43.59L10.3 9.45l-7.72 7.72c-.78.78-.78 2.05 0 2.83L4 21.41c.39.39.9.59 1.41.59.51 0 1.02-.2 1.41-.59l7.78-7.78 2.81-2.81c.8-.78.8-2.07 0-2.86zM5.41 20L4 18.59l7.72-7.72 1.47 1.35L5.41 20z\"/>\n",
              "  </svg>\n",
              "      </button>\n",
              "      \n",
              "  <style>\n",
              "    .colab-df-container {\n",
              "      display:flex;\n",
              "      flex-wrap:wrap;\n",
              "      gap: 12px;\n",
              "    }\n",
              "\n",
              "    .colab-df-convert {\n",
              "      background-color: #E8F0FE;\n",
              "      border: none;\n",
              "      border-radius: 50%;\n",
              "      cursor: pointer;\n",
              "      display: none;\n",
              "      fill: #1967D2;\n",
              "      height: 32px;\n",
              "      padding: 0 0 0 0;\n",
              "      width: 32px;\n",
              "    }\n",
              "\n",
              "    .colab-df-convert:hover {\n",
              "      background-color: #E2EBFA;\n",
              "      box-shadow: 0px 1px 2px rgba(60, 64, 67, 0.3), 0px 1px 3px 1px rgba(60, 64, 67, 0.15);\n",
              "      fill: #174EA6;\n",
              "    }\n",
              "\n",
              "    [theme=dark] .colab-df-convert {\n",
              "      background-color: #3B4455;\n",
              "      fill: #D2E3FC;\n",
              "    }\n",
              "\n",
              "    [theme=dark] .colab-df-convert:hover {\n",
              "      background-color: #434B5C;\n",
              "      box-shadow: 0px 1px 3px 1px rgba(0, 0, 0, 0.15);\n",
              "      filter: drop-shadow(0px 1px 2px rgba(0, 0, 0, 0.3));\n",
              "      fill: #FFFFFF;\n",
              "    }\n",
              "  </style>\n",
              "\n",
              "      <script>\n",
              "        const buttonEl =\n",
              "          document.querySelector('#df-59f420bb-67ae-442b-9ad2-37c51b4bb68a button.colab-df-convert');\n",
              "        buttonEl.style.display =\n",
              "          google.colab.kernel.accessAllowed ? 'block' : 'none';\n",
              "\n",
              "        async function convertToInteractive(key) {\n",
              "          const element = document.querySelector('#df-59f420bb-67ae-442b-9ad2-37c51b4bb68a');\n",
              "          const dataTable =\n",
              "            await google.colab.kernel.invokeFunction('convertToInteractive',\n",
              "                                                     [key], {});\n",
              "          if (!dataTable) return;\n",
              "\n",
              "          const docLinkHtml = 'Like what you see? Visit the ' +\n",
              "            '<a target=\"_blank\" href=https://colab.research.google.com/notebooks/data_table.ipynb>data table notebook</a>'\n",
              "            + ' to learn more about interactive tables.';\n",
              "          element.innerHTML = '';\n",
              "          dataTable['output_type'] = 'display_data';\n",
              "          await google.colab.output.renderOutput(dataTable, element);\n",
              "          const docLink = document.createElement('div');\n",
              "          docLink.innerHTML = docLinkHtml;\n",
              "          element.appendChild(docLink);\n",
              "        }\n",
              "      </script>\n",
              "    </div>\n",
              "  </div>\n",
              "  "
            ]
          },
          "metadata": {},
          "execution_count": 37
        }
      ]
    },
    {
      "cell_type": "markdown",
      "source": [
        "The pandas package was used to load the dataset. My original dataset has 568454 rows, which is quite enormous. Due to computational constraints, I am only considering 5000 samples."
      ],
      "metadata": {
        "id": "d1q77MuVNQQQ"
      }
    },
    {
      "cell_type": "markdown",
      "source": [
        "## Data preprocessing"
      ],
      "metadata": {
        "id": "_8bRkEGOOIKh"
      }
    },
    {
      "cell_type": "code",
      "source": [
        "df.isna().sum()"
      ],
      "metadata": {
        "colab": {
          "base_uri": "https://localhost:8080/"
        },
        "id": "olpdIUrEIOHj",
        "outputId": "8b4356ab-8191-45df-b358-cc7b564b96b2"
      },
      "execution_count": null,
      "outputs": [
        {
          "output_type": "execute_result",
          "data": {
            "text/plain": [
              "Id                           0\n",
              "ProductId                    0\n",
              "UserId                       0\n",
              "ProfileName                  0\n",
              "HelpfulnessNumerator         0\n",
              "HelpfulnessDenominator       0\n",
              "Score                        0\n",
              "Time                         0\n",
              "Summary                      0\n",
              "Text                         0\n",
              "Unnamed: 10               5000\n",
              "Unnamed: 11               5000\n",
              "dtype: int64"
            ]
          },
          "metadata": {},
          "execution_count": 38
        }
      ]
    },
    {
      "cell_type": "markdown",
      "source": [
        "Checking for null values"
      ],
      "metadata": {
        "id": "5vvnZHgdNmHh"
      }
    },
    {
      "cell_type": "code",
      "source": [
        "df = df.drop([\"Unnamed: 10\", \"ProductId\", \"Unnamed: 11\", \"UserId\"], axis=1)"
      ],
      "metadata": {
        "id": "GhOz226vITzd"
      },
      "execution_count": null,
      "outputs": []
    },
    {
      "cell_type": "code",
      "source": [
        "df = df.dropna()"
      ],
      "metadata": {
        "id": "CCC8PYTTJZmP"
      },
      "execution_count": null,
      "outputs": []
    },
    {
      "cell_type": "markdown",
      "source": [
        "I'm dropping Unnamed 10 and Unnamed 11 because they don't include any information. I have opted to remove a few more features that aren't necessary for this examination and dropprd null values."
      ],
      "metadata": {
        "id": "TAUopn1bNzbx"
      }
    },
    {
      "cell_type": "code",
      "source": [
        "df.isna().sum()"
      ],
      "metadata": {
        "colab": {
          "base_uri": "https://localhost:8080/"
        },
        "id": "yh5q6EluIW84",
        "outputId": "4deb37f1-a490-44eb-9487-4ef866cac85b"
      },
      "execution_count": null,
      "outputs": [
        {
          "output_type": "execute_result",
          "data": {
            "text/plain": [
              "Id                        0\n",
              "ProfileName               0\n",
              "HelpfulnessNumerator      0\n",
              "HelpfulnessDenominator    0\n",
              "Score                     0\n",
              "Time                      0\n",
              "Summary                   0\n",
              "Text                      0\n",
              "dtype: int64"
            ]
          },
          "metadata": {},
          "execution_count": 41
        }
      ]
    },
    {
      "cell_type": "code",
      "source": [
        "print(df.shape)"
      ],
      "metadata": {
        "colab": {
          "base_uri": "https://localhost:8080/"
        },
        "id": "XoxA8Oz-IaEr",
        "outputId": "f00a37b4-c8dc-440e-98d2-ebc89c6c731b"
      },
      "execution_count": null,
      "outputs": [
        {
          "output_type": "stream",
          "name": "stdout",
          "text": [
            "(5000, 8)\n"
          ]
        }
      ]
    },
    {
      "cell_type": "code",
      "source": [
        "df.head()"
      ],
      "metadata": {
        "colab": {
          "base_uri": "https://localhost:8080/",
          "height": 424
        },
        "id": "1Zz7tNmSIbAR",
        "outputId": "fd6ab63d-a2cf-4b88-a162-ff161e1fd392"
      },
      "execution_count": null,
      "outputs": [
        {
          "output_type": "execute_result",
          "data": {
            "text/plain": [
              "       Id    ProfileName  HelpfulnessNumerator  HelpfulnessDenominator  Score  \\\n",
              "0  552407         Y. Kim                     5                      18      4   \n",
              "1  499896    Judy Fields                     0                       0      5   \n",
              "2  174592      J. Shaath                     4                       4      5   \n",
              "3   48230  Dragon Slayer                     0                       7      1   \n",
              "4  514531      Johnny Os                     2                       4      5   \n",
              "\n",
              "         Time                               Summary  \\\n",
              "0  1150329600                       GREAT SHIPPINGG   \n",
              "1  1334188800          Hills Science Diet Oral Care   \n",
              "2  1303430400                      GF Spaghetti-O's   \n",
              "3  1290902400  This is coconut \"water\" not \"juice\".   \n",
              "4  1199577600      Best organic Mac & Cheese around   \n",
              "\n",
              "                                                Text  \n",
              "0  the shipping was great, the seller is AWESOME ...  \n",
              "1  My cat loves this cat food! He likes the big c...  \n",
              "2  I love this product.  I have tried multiple pa...  \n",
              "3  I misread the label.  I was looking for real j...  \n",
              "4  My local grocer always sells out of this stuff...  "
            ],
            "text/html": [
              "\n",
              "  <div id=\"df-7785e4c4-9696-472b-90f5-92f3508d27aa\">\n",
              "    <div class=\"colab-df-container\">\n",
              "      <div>\n",
              "<style scoped>\n",
              "    .dataframe tbody tr th:only-of-type {\n",
              "        vertical-align: middle;\n",
              "    }\n",
              "\n",
              "    .dataframe tbody tr th {\n",
              "        vertical-align: top;\n",
              "    }\n",
              "\n",
              "    .dataframe thead th {\n",
              "        text-align: right;\n",
              "    }\n",
              "</style>\n",
              "<table border=\"1\" class=\"dataframe\">\n",
              "  <thead>\n",
              "    <tr style=\"text-align: right;\">\n",
              "      <th></th>\n",
              "      <th>Id</th>\n",
              "      <th>ProfileName</th>\n",
              "      <th>HelpfulnessNumerator</th>\n",
              "      <th>HelpfulnessDenominator</th>\n",
              "      <th>Score</th>\n",
              "      <th>Time</th>\n",
              "      <th>Summary</th>\n",
              "      <th>Text</th>\n",
              "    </tr>\n",
              "  </thead>\n",
              "  <tbody>\n",
              "    <tr>\n",
              "      <th>0</th>\n",
              "      <td>552407</td>\n",
              "      <td>Y. Kim</td>\n",
              "      <td>5</td>\n",
              "      <td>18</td>\n",
              "      <td>4</td>\n",
              "      <td>1150329600</td>\n",
              "      <td>GREAT SHIPPINGG</td>\n",
              "      <td>the shipping was great, the seller is AWESOME ...</td>\n",
              "    </tr>\n",
              "    <tr>\n",
              "      <th>1</th>\n",
              "      <td>499896</td>\n",
              "      <td>Judy Fields</td>\n",
              "      <td>0</td>\n",
              "      <td>0</td>\n",
              "      <td>5</td>\n",
              "      <td>1334188800</td>\n",
              "      <td>Hills Science Diet Oral Care</td>\n",
              "      <td>My cat loves this cat food! He likes the big c...</td>\n",
              "    </tr>\n",
              "    <tr>\n",
              "      <th>2</th>\n",
              "      <td>174592</td>\n",
              "      <td>J. Shaath</td>\n",
              "      <td>4</td>\n",
              "      <td>4</td>\n",
              "      <td>5</td>\n",
              "      <td>1303430400</td>\n",
              "      <td>GF Spaghetti-O's</td>\n",
              "      <td>I love this product.  I have tried multiple pa...</td>\n",
              "    </tr>\n",
              "    <tr>\n",
              "      <th>3</th>\n",
              "      <td>48230</td>\n",
              "      <td>Dragon Slayer</td>\n",
              "      <td>0</td>\n",
              "      <td>7</td>\n",
              "      <td>1</td>\n",
              "      <td>1290902400</td>\n",
              "      <td>This is coconut \"water\" not \"juice\".</td>\n",
              "      <td>I misread the label.  I was looking for real j...</td>\n",
              "    </tr>\n",
              "    <tr>\n",
              "      <th>4</th>\n",
              "      <td>514531</td>\n",
              "      <td>Johnny Os</td>\n",
              "      <td>2</td>\n",
              "      <td>4</td>\n",
              "      <td>5</td>\n",
              "      <td>1199577600</td>\n",
              "      <td>Best organic Mac &amp; Cheese around</td>\n",
              "      <td>My local grocer always sells out of this stuff...</td>\n",
              "    </tr>\n",
              "  </tbody>\n",
              "</table>\n",
              "</div>\n",
              "      <button class=\"colab-df-convert\" onclick=\"convertToInteractive('df-7785e4c4-9696-472b-90f5-92f3508d27aa')\"\n",
              "              title=\"Convert this dataframe to an interactive table.\"\n",
              "              style=\"display:none;\">\n",
              "        \n",
              "  <svg xmlns=\"http://www.w3.org/2000/svg\" height=\"24px\"viewBox=\"0 0 24 24\"\n",
              "       width=\"24px\">\n",
              "    <path d=\"M0 0h24v24H0V0z\" fill=\"none\"/>\n",
              "    <path d=\"M18.56 5.44l.94 2.06.94-2.06 2.06-.94-2.06-.94-.94-2.06-.94 2.06-2.06.94zm-11 1L8.5 8.5l.94-2.06 2.06-.94-2.06-.94L8.5 2.5l-.94 2.06-2.06.94zm10 10l.94 2.06.94-2.06 2.06-.94-2.06-.94-.94-2.06-.94 2.06-2.06.94z\"/><path d=\"M17.41 7.96l-1.37-1.37c-.4-.4-.92-.59-1.43-.59-.52 0-1.04.2-1.43.59L10.3 9.45l-7.72 7.72c-.78.78-.78 2.05 0 2.83L4 21.41c.39.39.9.59 1.41.59.51 0 1.02-.2 1.41-.59l7.78-7.78 2.81-2.81c.8-.78.8-2.07 0-2.86zM5.41 20L4 18.59l7.72-7.72 1.47 1.35L5.41 20z\"/>\n",
              "  </svg>\n",
              "      </button>\n",
              "      \n",
              "  <style>\n",
              "    .colab-df-container {\n",
              "      display:flex;\n",
              "      flex-wrap:wrap;\n",
              "      gap: 12px;\n",
              "    }\n",
              "\n",
              "    .colab-df-convert {\n",
              "      background-color: #E8F0FE;\n",
              "      border: none;\n",
              "      border-radius: 50%;\n",
              "      cursor: pointer;\n",
              "      display: none;\n",
              "      fill: #1967D2;\n",
              "      height: 32px;\n",
              "      padding: 0 0 0 0;\n",
              "      width: 32px;\n",
              "    }\n",
              "\n",
              "    .colab-df-convert:hover {\n",
              "      background-color: #E2EBFA;\n",
              "      box-shadow: 0px 1px 2px rgba(60, 64, 67, 0.3), 0px 1px 3px 1px rgba(60, 64, 67, 0.15);\n",
              "      fill: #174EA6;\n",
              "    }\n",
              "\n",
              "    [theme=dark] .colab-df-convert {\n",
              "      background-color: #3B4455;\n",
              "      fill: #D2E3FC;\n",
              "    }\n",
              "\n",
              "    [theme=dark] .colab-df-convert:hover {\n",
              "      background-color: #434B5C;\n",
              "      box-shadow: 0px 1px 3px 1px rgba(0, 0, 0, 0.15);\n",
              "      filter: drop-shadow(0px 1px 2px rgba(0, 0, 0, 0.3));\n",
              "      fill: #FFFFFF;\n",
              "    }\n",
              "  </style>\n",
              "\n",
              "      <script>\n",
              "        const buttonEl =\n",
              "          document.querySelector('#df-7785e4c4-9696-472b-90f5-92f3508d27aa button.colab-df-convert');\n",
              "        buttonEl.style.display =\n",
              "          google.colab.kernel.accessAllowed ? 'block' : 'none';\n",
              "\n",
              "        async function convertToInteractive(key) {\n",
              "          const element = document.querySelector('#df-7785e4c4-9696-472b-90f5-92f3508d27aa');\n",
              "          const dataTable =\n",
              "            await google.colab.kernel.invokeFunction('convertToInteractive',\n",
              "                                                     [key], {});\n",
              "          if (!dataTable) return;\n",
              "\n",
              "          const docLinkHtml = 'Like what you see? Visit the ' +\n",
              "            '<a target=\"_blank\" href=https://colab.research.google.com/notebooks/data_table.ipynb>data table notebook</a>'\n",
              "            + ' to learn more about interactive tables.';\n",
              "          element.innerHTML = '';\n",
              "          dataTable['output_type'] = 'display_data';\n",
              "          await google.colab.output.renderOutput(dataTable, element);\n",
              "          const docLink = document.createElement('div');\n",
              "          docLink.innerHTML = docLinkHtml;\n",
              "          element.appendChild(docLink);\n",
              "        }\n",
              "      </script>\n",
              "    </div>\n",
              "  </div>\n",
              "  "
            ]
          },
          "metadata": {},
          "execution_count": 43
        }
      ]
    },
    {
      "cell_type": "code",
      "source": [
        "reviews = df['Score'].value_counts().sort_index()\n",
        "reviews.plot(kind='bar',title='Reviews', figsize=(10, 5))\n",
        "plt.xlabel('rating')\n",
        "plt.ylabel('count')\n",
        "plt.show()"
      ],
      "metadata": {
        "colab": {
          "base_uri": "https://localhost:8080/",
          "height": 482
        },
        "id": "vgrnBSRqIgvm",
        "outputId": "a33c4392-a7c0-4380-b8fd-728bd2b6ae60"
      },
      "execution_count": null,
      "outputs": [
        {
          "output_type": "display_data",
          "data": {
            "text/plain": [
              "<Figure size 1000x500 with 1 Axes>"
            ],
            "image/png": "[encoded data removed]"
          },
          "metadata": {}
        }
      ]
    },
    {
      "cell_type": "markdown",
      "source": [
        "Plotting the ratings of the products."
      ],
      "metadata": {
        "id": "qkeRgT04OCuQ"
      }
    },
    {
      "cell_type": "markdown",
      "source": [
        "## NLTK"
      ],
      "metadata": {
        "id": "xx6nDeERP281"
      }
    },
    {
      "cell_type": "code",
      "source": [
        "word = df['Text'][50]\n",
        "print(word)"
      ],
      "metadata": {
        "colab": {
          "base_uri": "https://localhost:8080/"
        },
        "id": "_I9ePgSpIkCy",
        "outputId": "58d37ae2-70e5-452a-85ce-559fd3288c90"
      },
      "execution_count": null,
      "outputs": [
        {
          "output_type": "stream",
          "name": "stdout",
          "text": [
            "Well, I suppose if you don't like spicy food, these might not be your thing. And if you don't like wonderfully tasty, crispy (and healthy!) snacks, they might not be your thing either!<br /><br />But I'm guessing you already passed these by if you fall into the former category, and I'm guessing not many people fit into the latter.<br /><br />My only complaint with these is that the wasabi coating seems to be slightly variable on them, as in I'll have one piece that's moderately hot, and then another that's really not at all. These are horribly addictive too, so it's not like I can just eat a couple of them anyways! They're fairly healthy, which makes me not feel as bad about sucking down a whole pack, but my wallet is more of a limiting factor than my appetite on buying these damn things!<br /><br />In short, these are tasty but moderately spicy. If you like wasabi, you'll love them. If you like seaweed (in whatever form; seaweed salad, on/around your sushi, etc), you'll love them. If you think you hate seaweed since it sounds icky, I bet you'll still love them!\n"
          ]
        }
      ]
    },
    {
      "cell_type": "code",
      "source": [
        "nltk.download('punkt')"
      ],
      "metadata": {
        "colab": {
          "base_uri": "https://localhost:8080/"
        },
        "id": "ttLnCxcyJzWa",
        "outputId": "be5d3f0a-a256-4d0d-b142-07473befb187"
      },
      "execution_count": null,
      "outputs": [
        {
          "output_type": "stream",
          "name": "stderr",
          "text": [
            "[nltk_data] Downloading package punkt to /root/nltk_data...\n",
            "[nltk_data]   Package punkt is already up-to-date!\n"
          ]
        },
        {
          "output_type": "execute_result",
          "data": {
            "text/plain": [
              "True"
            ]
          },
          "metadata": {},
          "execution_count": 46
        }
      ]
    },
    {
      "cell_type": "code",
      "source": [
        "tokens = nltk.word_tokenize(word)\n",
        "tokens[:15]"
      ],
      "metadata": {
        "colab": {
          "base_uri": "https://localhost:8080/"
        },
        "id": "IP2J60cpJ2Mf",
        "outputId": "c5710067-bb46-49ab-8179-002544109931"
      },
      "execution_count": null,
      "outputs": [
        {
          "output_type": "execute_result",
          "data": {
            "text/plain": [
              "['Well',\n",
              " ',',\n",
              " 'I',\n",
              " 'suppose',\n",
              " 'if',\n",
              " 'you',\n",
              " 'do',\n",
              " \"n't\",\n",
              " 'like',\n",
              " 'spicy',\n",
              " 'food',\n",
              " ',',\n",
              " 'these',\n",
              " 'might',\n",
              " 'not']"
            ]
          },
          "metadata": {},
          "execution_count": 47
        }
      ]
    },
    {
      "cell_type": "markdown",
      "source": [
        "Tokenization of the 50th row is being reviewed. The first 15 words of the review are displayed.\n"
      ],
      "metadata": {
        "id": "B38acEb7jyDP"
      }
    },
    {
      "cell_type": "code",
      "source": [
        "nltk.download('averaged_perceptron_tagger')\n",
        "tagged = nltk.pos_tag(tokens)\n",
        "tagged[:15]"
      ],
      "metadata": {
        "colab": {
          "base_uri": "https://localhost:8080/"
        },
        "id": "hu1jSM0hJ90L",
        "outputId": "0b40d93a-7195-47de-e01e-c82cc36085d5"
      },
      "execution_count": null,
      "outputs": [
        {
          "output_type": "stream",
          "name": "stderr",
          "text": [
            "[nltk_data] Downloading package averaged_perceptron_tagger to\n",
            "[nltk_data]     /root/nltk_data...\n",
            "[nltk_data]   Package averaged_perceptron_tagger is already up-to-\n",
            "[nltk_data]       date!\n"
          ]
        },
        {
          "output_type": "execute_result",
          "data": {
            "text/plain": [
              "[('Well', 'RB'),\n",
              " (',', ','),\n",
              " ('I', 'PRP'),\n",
              " ('suppose', 'VBP'),\n",
              " ('if', 'IN'),\n",
              " ('you', 'PRP'),\n",
              " ('do', 'VBP'),\n",
              " (\"n't\", 'RB'),\n",
              " ('like', 'VB'),\n",
              " ('spicy', 'NN'),\n",
              " ('food', 'NN'),\n",
              " (',', ','),\n",
              " ('these', 'DT'),\n",
              " ('might', 'MD'),\n",
              " ('not', 'RB')]"
            ]
          },
          "metadata": {},
          "execution_count": 48
        }
      ]
    },
    {
      "cell_type": "markdown",
      "source": [
        "Downloaded the required pre-trained models. The method extracts a specific text from a Data Frame, tokenizes it into individual words, tags the tokens with part-of-speech tags."
      ],
      "metadata": {
        "id": "BlTZt9t4PdJq"
      }
    },
    {
      "cell_type": "code",
      "source": [
        "nltk.download('words')\n",
        "nltk.download('maxent_ne_chunker')\n",
        "entities = nltk.ne_chunk(tagged)\n",
        "entities.pprint()"
      ],
      "metadata": {
        "colab": {
          "base_uri": "https://localhost:8080/"
        },
        "id": "9m6pip6SKC90",
        "outputId": "649248ed-0da8-4116-fb92-f3a56b6f6ae7"
      },
      "execution_count": null,
      "outputs": [
        {
          "output_type": "stream",
          "name": "stderr",
          "text": [
            "[nltk_data] Downloading package words to /root/nltk_data...\n",
            "[nltk_data]   Package words is already up-to-date!\n",
            "[nltk_data] Downloading package maxent_ne_chunker to\n",
            "[nltk_data]     /root/nltk_data...\n",
            "[nltk_data]   Package maxent_ne_chunker is already up-to-date!\n"
          ]
        },
        {
          "output_type": "stream",
          "name": "stdout",
          "text": [
            "(S\n",
            "  Well/RB\n",
            "  ,/,\n",
            "  I/PRP\n",
            "  suppose/VBP\n",
            "  if/IN\n",
            "  you/PRP\n",
            "  do/VBP\n",
            "  n't/RB\n",
            "  like/VB\n",
            "  spicy/NN\n",
            "  food/NN\n",
            "  ,/,\n",
            "  these/DT\n",
            "  might/MD\n",
            "  not/RB\n",
            "  be/VB\n",
            "  your/PRP$\n",
            "  thing/NN\n",
            "  ./.\n",
            "  And/CC\n",
            "  if/IN\n",
            "  you/PRP\n",
            "  do/VBP\n",
            "  n't/RB\n",
            "  like/VB\n",
            "  wonderfully/RB\n",
            "  tasty/JJ\n",
            "  ,/,\n",
            "  crispy/NN\n",
            "  (/(\n",
            "  and/CC\n",
            "  healthy/JJ\n",
            "  !/.\n",
            "  )/)\n",
            "  snacks/NNS\n",
            "  ,/,\n",
            "  they/PRP\n",
            "  might/MD\n",
            "  not/RB\n",
            "  be/VB\n",
            "  your/PRP$\n",
            "  thing/NN\n",
            "  either/RB\n",
            "  !/.\n",
            "  </NN\n",
            "  br/NN\n",
            "  //NNP\n",
            "  >/NNP\n",
            "  </NNP\n",
            "  br/NN\n",
            "  //NNP\n",
            "  >/NNP\n",
            "  But/CC\n",
            "  I/PRP\n",
            "  'm/VBP\n",
            "  guessing/VBG\n",
            "  you/PRP\n",
            "  already/RB\n",
            "  passed/VBN\n",
            "  these/DT\n",
            "  by/IN\n",
            "  if/IN\n",
            "  you/PRP\n",
            "  fall/VBP\n",
            "  into/IN\n",
            "  the/DT\n",
            "  former/JJ\n",
            "  category/NN\n",
            "  ,/,\n",
            "  and/CC\n",
            "  I/PRP\n",
            "  'm/VBP\n",
            "  guessing/VBG\n",
            "  not/RB\n",
            "  many/JJ\n",
            "  people/NNS\n",
            "  fit/VBP\n",
            "  into/IN\n",
            "  the/DT\n",
            "  latter./JJ\n",
            "  </NNP\n",
            "  br/NN\n",
            "  //NNP\n",
            "  >/NNP\n",
            "  </NNP\n",
            "  br/NN\n",
            "  //NNP\n",
            "  >/NNP\n",
            "  My/NNP\n",
            "  only/RB\n",
            "  complaint/NN\n",
            "  with/IN\n",
            "  these/DT\n",
            "  is/VBZ\n",
            "  that/IN\n",
            "  the/DT\n",
            "  wasabi/NN\n",
            "  coating/VBG\n",
            "  seems/VBZ\n",
            "  to/TO\n",
            "  be/VB\n",
            "  slightly/RB\n",
            "  variable/JJ\n",
            "  on/IN\n",
            "  them/PRP\n",
            "  ,/,\n",
            "  as/IN\n",
            "  in/IN\n",
            "  I/PRP\n",
            "  'll/MD\n",
            "  have/VB\n",
            "  one/CD\n",
            "  piece/NN\n",
            "  that/WDT\n",
            "  's/VBZ\n",
            "  moderately/RB\n",
            "  hot/JJ\n",
            "  ,/,\n",
            "  and/CC\n",
            "  then/RB\n",
            "  another/DT\n",
            "  that/WDT\n",
            "  's/VBZ\n",
            "  really/RB\n",
            "  not/RB\n",
            "  at/IN\n",
            "  all/DT\n",
            "  ./.\n",
            "  These/DT\n",
            "  are/VBP\n",
            "  horribly/RB\n",
            "  addictive/JJ\n",
            "  too/RB\n",
            "  ,/,\n",
            "  so/IN\n",
            "  it/PRP\n",
            "  's/VBZ\n",
            "  not/RB\n",
            "  like/IN\n",
            "  I/PRP\n",
            "  can/MD\n",
            "  just/RB\n",
            "  eat/VB\n",
            "  a/DT\n",
            "  couple/NN\n",
            "  of/IN\n",
            "  them/PRP\n",
            "  anyways/VBZ\n",
            "  !/.\n",
            "  They/PRP\n",
            "  're/VBP\n",
            "  fairly/RB\n",
            "  healthy/JJ\n",
            "  ,/,\n",
            "  which/WDT\n",
            "  makes/VBZ\n",
            "  me/PRP\n",
            "  not/RB\n",
            "  feel/VB\n",
            "  as/IN\n",
            "  bad/JJ\n",
            "  about/IN\n",
            "  sucking/VBG\n",
            "  down/RP\n",
            "  a/DT\n",
            "  whole/JJ\n",
            "  pack/NN\n",
            "  ,/,\n",
            "  but/CC\n",
            "  my/PRP$\n",
            "  wallet/NN\n",
            "  is/VBZ\n",
            "  more/JJR\n",
            "  of/IN\n",
            "  a/DT\n",
            "  limiting/VBG\n",
            "  factor/NN\n",
            "  than/IN\n",
            "  my/PRP$\n",
            "  appetite/NN\n",
            "  on/IN\n",
            "  buying/VBG\n",
            "  these/DT\n",
            "  damn/JJ\n",
            "  things/NNS\n",
            "  !/.\n",
            "  </NN\n",
            "  br/NN\n",
            "  //NNP\n",
            "  >/NNP\n",
            "  </NNP\n",
            "  br/NN\n",
            "  //NNP\n",
            "  >/NNP\n",
            "  In/IN\n",
            "  short/JJ\n",
            "  ,/,\n",
            "  these/DT\n",
            "  are/VBP\n",
            "  tasty/JJ\n",
            "  but/CC\n",
            "  moderately/RB\n",
            "  spicy/NN\n",
            "  ./.\n",
            "  If/IN\n",
            "  you/PRP\n",
            "  like/VBP\n",
            "  wasabi/NNS\n",
            "  ,/,\n",
            "  you/PRP\n",
            "  'll/MD\n",
            "  love/VB\n",
            "  them/PRP\n",
            "  ./.\n",
            "  If/IN\n",
            "  you/PRP\n",
            "  like/VBP\n",
            "  seaweed/VBN\n",
            "  (/(\n",
            "  in/IN\n",
            "  whatever/WDT\n",
            "  form/NN\n",
            "  ;/:\n",
            "  seaweed/CC\n",
            "  salad/VB\n",
            "  ,/,\n",
            "  on/around/IN\n",
            "  your/PRP$\n",
            "  sushi/NN\n",
            "  ,/,\n",
            "  etc/NN\n",
            "  )/)\n",
            "  ,/,\n",
            "  you/PRP\n",
            "  'll/MD\n",
            "  love/VB\n",
            "  them/PRP\n",
            "  ./.\n",
            "  If/IN\n",
            "  you/PRP\n",
            "  think/VBP\n",
            "  you/PRP\n",
            "  hate/VBP\n",
            "  seaweed/VBN\n",
            "  since/IN\n",
            "  it/PRP\n",
            "  sounds/VBZ\n",
            "  icky/JJ\n",
            "  ,/,\n",
            "  I/PRP\n",
            "  bet/VBP\n",
            "  you/PRP\n",
            "  'll/MD\n",
            "  still/RB\n",
            "  love/VB\n",
            "  them/PRP\n",
            "  !/.)\n"
          ]
        }
      ]
    },
    {
      "cell_type": "markdown",
      "source": [
        "Downloaded the necessary pre-trained models to perform named entity recognition(NRE). NRE process is used to analyze the name entity from tex."
      ],
      "metadata": {
        "id": "8WTrQfrrPqAe"
      }
    },
    {
      "cell_type": "markdown",
      "source": [
        "## Sentiment Analysis"
      ],
      "metadata": {
        "id": "dU6ekT6QP-xm"
      }
    },
    {
      "cell_type": "code",
      "source": [
        "nltk.download('vader_lexicon')\n",
        "sen = SentimentIntensityAnalyzer()"
      ],
      "metadata": {
        "colab": {
          "base_uri": "https://localhost:8080/"
        },
        "id": "t8WvldaxKJXa",
        "outputId": "d17dd73f-422a-418d-d439-b6ebdadd42f2"
      },
      "execution_count": null,
      "outputs": [
        {
          "output_type": "stream",
          "name": "stderr",
          "text": [
            "[nltk_data] Downloading package vader_lexicon to /root/nltk_data...\n",
            "[nltk_data]   Package vader_lexicon is already up-to-date!\n"
          ]
        }
      ]
    },
    {
      "cell_type": "code",
      "source": [
        "sen.polarity_scores('I am so happy!')"
      ],
      "metadata": {
        "colab": {
          "base_uri": "https://localhost:8080/"
        },
        "id": "YxfNK4jmKPgs",
        "outputId": "e5eeae0c-0beb-4206-f886-60a6258c1950"
      },
      "execution_count": null,
      "outputs": [
        {
          "output_type": "execute_result",
          "data": {
            "text/plain": [
              "{'neg': 0.0, 'neu': 0.318, 'pos': 0.682, 'compound': 0.6468}"
            ]
          },
          "metadata": {},
          "execution_count": 51
        }
      ]
    },
    {
      "cell_type": "markdown",
      "source": [
        "This method is used to calculate the polarity score of the sentance."
      ],
      "metadata": {
        "id": "wDHnYPNhnDJg"
      }
    },
    {
      "cell_type": "code",
      "source": [
        "sen.polarity_scores(word)"
      ],
      "metadata": {
        "colab": {
          "base_uri": "https://localhost:8080/"
        },
        "id": "PKFBmYHVKTdP",
        "outputId": "1191fda6-eb0f-485c-c335-9da50bf75665"
      },
      "execution_count": null,
      "outputs": [
        {
          "output_type": "execute_result",
          "data": {
            "text/plain": [
              "{'neg': 0.124, 'neu': 0.773, 'pos': 0.103, 'compound': 0.5954}"
            ]
          },
          "metadata": {},
          "execution_count": 52
        }
      ]
    },
    {
      "cell_type": "markdown",
      "source": [
        "Here, we are calculatuing the polarity of above assigned review of 50th row."
      ],
      "metadata": {
        "id": "k2VoS80_nLVK"
      }
    },
    {
      "cell_type": "code",
      "source": [
        "res = {}\n",
        "for i, row in tqdm(df.iterrows(), total=len(df)):\n",
        "    text = row['Text']\n",
        "    myid = row['Id']\n",
        "    res[myid] = sen.polarity_scores(text)"
      ],
      "metadata": {
        "colab": {
          "base_uri": "https://localhost:8080/",
          "height": 49,
          "referenced_widgets": [
            "3b5afa90fe654949a116a2df799f546c",
            "676bfc4542674926be71ad835724b342",
            "5debcd90099549ecb35841c83fe920cb",
            "60c798a95a9d48c5a4461d99951d6c65",
            "52cba19854b34445b37ab58afb8bbd5c",
            "617211a4219a41fe8333c4017fbb29c7",
            "991fa7c0c99a4f8a858e204e7b25b9be",
            "b3c0a711e2f24604b92e033ea3a455fb",
            "c9249edd346f4df3916f2c4c8dc49eac",
            "8e1d4d70859a4a1da908f62740cd68b4",
            "51534f7a556a4d468fb3709e8d30b98a"
          ]
        },
        "id": "Q6CE4n_NKZte",
        "outputId": "66147c43-de34-4184-c5f8-8a284b432ffb"
      },
      "execution_count": null,
      "outputs": [
        {
          "output_type": "display_data",
          "data": {
            "text/plain": [
              "  0%|          | 0/5000 [00:00<?, ?it/s]"
            ],
            "application/vnd.jupyter.widget-view+json": {
              "version_major": 2,
              "version_minor": 0,
              "model_id": "3b5afa90fe654949a116a2df799f546c"
            }
          },
          "metadata": {}
        }
      ]
    },
    {
      "cell_type": "markdown",
      "source": [
        "This code iterates over the each row of the dataset and calculate the sentiment polarity. Maps the polarity score using ID and stores in dataset."
      ],
      "metadata": {
        "id": "_dcL-Ugpn0KZ"
      }
    },
    {
      "cell_type": "code",
      "source": [
        "sen_analysis = pd.DataFrame(res).T\n",
        "sen_analysis = sen_analysis.reset_index().rename(columns={'index': 'Id'})\n",
        "sen_analysis = sen_analysis.merge(df, how='left')"
      ],
      "metadata": {
        "id": "FJq4VNQ1KeQ2"
      },
      "execution_count": null,
      "outputs": []
    },
    {
      "cell_type": "markdown",
      "source": [
        "Imported and downloaded required packages to perform the sentiment analysis. This allows to merge the polarity score into datast."
      ],
      "metadata": {
        "id": "pkKKy-k6QMhB"
      }
    },
    {
      "cell_type": "code",
      "source": [
        "sen_analysis.head()"
      ],
      "metadata": {
        "colab": {
          "base_uri": "https://localhost:8080/",
          "height": 635
        },
        "id": "KpiX08okKhjg",
        "outputId": "1569ffa0-6734-48f7-ce6e-e81e307653b1"
      },
      "execution_count": null,
      "outputs": [
        {
          "output_type": "execute_result",
          "data": {
            "text/plain": [
              "       Id    neg    neu    pos  compound    ProfileName  HelpfulnessNumerator  \\\n",
              "0  552407  0.000  0.806  0.194    0.8730         Y. Kim                     5   \n",
              "1  499896  0.000  0.786  0.214    0.9441    Judy Fields                     0   \n",
              "2  174592  0.013  0.752  0.235    0.9880      J. Shaath                     4   \n",
              "3   48230  0.129  0.763  0.107   -0.1974  Dragon Slayer                     0   \n",
              "4  514531  0.022  0.780  0.198    0.9081      Johnny Os                     2   \n",
              "\n",
              "   HelpfulnessDenominator  Score        Time  \\\n",
              "0                      18      4  1150329600   \n",
              "1                       0      5  1334188800   \n",
              "2                       4      5  1303430400   \n",
              "3                       7      1  1290902400   \n",
              "4                       4      5  1199577600   \n",
              "\n",
              "                                Summary  \\\n",
              "0                       GREAT SHIPPINGG   \n",
              "1          Hills Science Diet Oral Care   \n",
              "2                      GF Spaghetti-O's   \n",
              "3  This is coconut \"water\" not \"juice\".   \n",
              "4      Best organic Mac & Cheese around   \n",
              "\n",
              "                                                Text  \n",
              "0  the shipping was great, the seller is AWESOME ...  \n",
              "1  My cat loves this cat food! He likes the big c...  \n",
              "2  I love this product.  I have tried multiple pa...  \n",
              "3  I misread the label.  I was looking for real j...  \n",
              "4  My local grocer always sells out of this stuff...  "
            ],
            "text/html": [
              "\n",
              "  <div id=\"df-fde71e4e-ba52-484e-b579-c97d819b9f5d\">\n",
              "    <div class=\"colab-df-container\">\n",
              "      <div>\n",
              "<style scoped>\n",
              "    .dataframe tbody tr th:only-of-type {\n",
              "        vertical-align: middle;\n",
              "    }\n",
              "\n",
              "    .dataframe tbody tr th {\n",
              "        vertical-align: top;\n",
              "    }\n",
              "\n",
              "    .dataframe thead th {\n",
              "        text-align: right;\n",
              "    }\n",
              "</style>\n",
              "<table border=\"1\" class=\"dataframe\">\n",
              "  <thead>\n",
              "    <tr style=\"text-align: right;\">\n",
              "      <th></th>\n",
              "      <th>Id</th>\n",
              "      <th>neg</th>\n",
              "      <th>neu</th>\n",
              "      <th>pos</th>\n",
              "      <th>compound</th>\n",
              "      <th>ProfileName</th>\n",
              "      <th>HelpfulnessNumerator</th>\n",
              "      <th>HelpfulnessDenominator</th>\n",
              "      <th>Score</th>\n",
              "      <th>Time</th>\n",
              "      <th>Summary</th>\n",
              "      <th>Text</th>\n",
              "    </tr>\n",
              "  </thead>\n",
              "  <tbody>\n",
              "    <tr>\n",
              "      <th>0</th>\n",
              "      <td>552407</td>\n",
              "      <td>0.000</td>\n",
              "      <td>0.806</td>\n",
              "      <td>0.194</td>\n",
              "      <td>0.8730</td>\n",
              "      <td>Y. Kim</td>\n",
              "      <td>5</td>\n",
              "      <td>18</td>\n",
              "      <td>4</td>\n",
              "      <td>1150329600</td>\n",
              "      <td>GREAT SHIPPINGG</td>\n",
              "      <td>the shipping was great, the seller is AWESOME ...</td>\n",
              "    </tr>\n",
              "    <tr>\n",
              "      <th>1</th>\n",
              "      <td>499896</td>\n",
              "      <td>0.000</td>\n",
              "      <td>0.786</td>\n",
              "      <td>0.214</td>\n",
              "      <td>0.9441</td>\n",
              "      <td>Judy Fields</td>\n",
              "      <td>0</td>\n",
              "      <td>0</td>\n",
              "      <td>5</td>\n",
              "      <td>1334188800</td>\n",
              "      <td>Hills Science Diet Oral Care</td>\n",
              "      <td>My cat loves this cat food! He likes the big c...</td>\n",
              "    </tr>\n",
              "    <tr>\n",
              "      <th>2</th>\n",
              "      <td>174592</td>\n",
              "      <td>0.013</td>\n",
              "      <td>0.752</td>\n",
              "      <td>0.235</td>\n",
              "      <td>0.9880</td>\n",
              "      <td>J. Shaath</td>\n",
              "      <td>4</td>\n",
              "      <td>4</td>\n",
              "      <td>5</td>\n",
              "      <td>1303430400</td>\n",
              "      <td>GF Spaghetti-O's</td>\n",
              "      <td>I love this product.  I have tried multiple pa...</td>\n",
              "    </tr>\n",
              "    <tr>\n",
              "      <th>3</th>\n",
              "      <td>48230</td>\n",
              "      <td>0.129</td>\n",
              "      <td>0.763</td>\n",
              "      <td>0.107</td>\n",
              "      <td>-0.1974</td>\n",
              "      <td>Dragon Slayer</td>\n",
              "      <td>0</td>\n",
              "      <td>7</td>\n",
              "      <td>1</td>\n",
              "      <td>1290902400</td>\n",
              "      <td>This is coconut \"water\" not \"juice\".</td>\n",
              "      <td>I misread the label.  I was looking for real j...</td>\n",
              "    </tr>\n",
              "    <tr>\n",
              "      <th>4</th>\n",
              "      <td>514531</td>\n",
              "      <td>0.022</td>\n",
              "      <td>0.780</td>\n",
              "      <td>0.198</td>\n",
              "      <td>0.9081</td>\n",
              "      <td>Johnny Os</td>\n",
              "      <td>2</td>\n",
              "      <td>4</td>\n",
              "      <td>5</td>\n",
              "      <td>1199577600</td>\n",
              "      <td>Best organic Mac &amp; Cheese around</td>\n",
              "      <td>My local grocer always sells out of this stuff...</td>\n",
              "    </tr>\n",
              "  </tbody>\n",
              "</table>\n",
              "</div>\n",
              "      <button class=\"colab-df-convert\" onclick=\"convertToInteractive('df-fde71e4e-ba52-484e-b579-c97d819b9f5d')\"\n",
              "              title=\"Convert this dataframe to an interactive table.\"\n",
              "              style=\"display:none;\">\n",
              "        \n",
              "  <svg xmlns=\"http://www.w3.org/2000/svg\" height=\"24px\"viewBox=\"0 0 24 24\"\n",
              "       width=\"24px\">\n",
              "    <path d=\"M0 0h24v24H0V0z\" fill=\"none\"/>\n",
              "    <path d=\"M18.56 5.44l.94 2.06.94-2.06 2.06-.94-2.06-.94-.94-2.06-.94 2.06-2.06.94zm-11 1L8.5 8.5l.94-2.06 2.06-.94-2.06-.94L8.5 2.5l-.94 2.06-2.06.94zm10 10l.94 2.06.94-2.06 2.06-.94-2.06-.94-.94-2.06-.94 2.06-2.06.94z\"/><path d=\"M17.41 7.96l-1.37-1.37c-.4-.4-.92-.59-1.43-.59-.52 0-1.04.2-1.43.59L10.3 9.45l-7.72 7.72c-.78.78-.78 2.05 0 2.83L4 21.41c.39.39.9.59 1.41.59.51 0 1.02-.2 1.41-.59l7.78-7.78 2.81-2.81c.8-.78.8-2.07 0-2.86zM5.41 20L4 18.59l7.72-7.72 1.47 1.35L5.41 20z\"/>\n",
              "  </svg>\n",
              "      </button>\n",
              "      \n",
              "  <style>\n",
              "    .colab-df-container {\n",
              "      display:flex;\n",
              "      flex-wrap:wrap;\n",
              "      gap: 12px;\n",
              "    }\n",
              "\n",
              "    .colab-df-convert {\n",
              "      background-color: #E8F0FE;\n",
              "      border: none;\n",
              "      border-radius: 50%;\n",
              "      cursor: pointer;\n",
              "      display: none;\n",
              "      fill: #1967D2;\n",
              "      height: 32px;\n",
              "      padding: 0 0 0 0;\n",
              "      width: 32px;\n",
              "    }\n",
              "\n",
              "    .colab-df-convert:hover {\n",
              "      background-color: #E2EBFA;\n",
              "      box-shadow: 0px 1px 2px rgba(60, 64, 67, 0.3), 0px 1px 3px 1px rgba(60, 64, 67, 0.15);\n",
              "      fill: #174EA6;\n",
              "    }\n",
              "\n",
              "    [theme=dark] .colab-df-convert {\n",
              "      background-color: #3B4455;\n",
              "      fill: #D2E3FC;\n",
              "    }\n",
              "\n",
              "    [theme=dark] .colab-df-convert:hover {\n",
              "      background-color: #434B5C;\n",
              "      box-shadow: 0px 1px 3px 1px rgba(0, 0, 0, 0.15);\n",
              "      filter: drop-shadow(0px 1px 2px rgba(0, 0, 0, 0.3));\n",
              "      fill: #FFFFFF;\n",
              "    }\n",
              "  </style>\n",
              "\n",
              "      <script>\n",
              "        const buttonEl =\n",
              "          document.querySelector('#df-fde71e4e-ba52-484e-b579-c97d819b9f5d button.colab-df-convert');\n",
              "        buttonEl.style.display =\n",
              "          google.colab.kernel.accessAllowed ? 'block' : 'none';\n",
              "\n",
              "        async function convertToInteractive(key) {\n",
              "          const element = document.querySelector('#df-fde71e4e-ba52-484e-b579-c97d819b9f5d');\n",
              "          const dataTable =\n",
              "            await google.colab.kernel.invokeFunction('convertToInteractive',\n",
              "                                                     [key], {});\n",
              "          if (!dataTable) return;\n",
              "\n",
              "          const docLinkHtml = 'Like what you see? Visit the ' +\n",
              "            '<a target=\"_blank\" href=https://colab.research.google.com/notebooks/data_table.ipynb>data table notebook</a>'\n",
              "            + ' to learn more about interactive tables.';\n",
              "          element.innerHTML = '';\n",
              "          dataTable['output_type'] = 'display_data';\n",
              "          await google.colab.output.renderOutput(dataTable, element);\n",
              "          const docLink = document.createElement('div');\n",
              "          docLink.innerHTML = docLinkHtml;\n",
              "          element.appendChild(docLink);\n",
              "        }\n",
              "      </script>\n",
              "    </div>\n",
              "  </div>\n",
              "  "
            ]
          },
          "metadata": {},
          "execution_count": 55
        }
      ]
    },
    {
      "cell_type": "markdown",
      "source": [
        "I used sentiment analysis to add the negative, neutral, and positive scores for each review. Each review's negative, neutral, and positive score is represented by the letters neg, nue, and pos."
      ],
      "metadata": {
        "id": "g3dUSbXqQOYb"
      }
    },
    {
      "cell_type": "code",
      "source": [
        "df = df.drop([\"Summary\", \"Text\", \"ProfileName\"], axis=1)"
      ],
      "metadata": {
        "id": "Ofi4Hh0fKu3N"
      },
      "execution_count": null,
      "outputs": []
    },
    {
      "cell_type": "markdown",
      "source": [
        "Dropped some more features to perform the algorithm selection and hyperparameter tuning."
      ],
      "metadata": {
        "id": "gMdvU5mFQU15"
      }
    },
    {
      "cell_type": "code",
      "source": [
        "x = df.drop('Score', axis=1)\n",
        "y = df['Score']\n",
        "SMOTE = SMOTE(random_state=42)\n",
        "x_train, y_train = SMOTE.fit_resample(x,y)\n",
        "df = pd.concat([pd.DataFrame(x_train), pd.Series(y_train, name='Score')], axis=1)\n",
        "\n",
        "TEST_RATIO = 0.2\n",
        "x_train, x_test, y_train, y_test = sklearn.model_selection.train_test_split(x, y, test_size=TEST_RATIO )\n",
        "\n",
        "print('x_train:', x_train.shape)\n",
        "print('x_test:', x_test.shape)\n",
        "print('y_train:', y_train.shape)\n",
        "print('y_test:', y_test.shape)"
      ],
      "metadata": {
        "colab": {
          "base_uri": "https://localhost:8080/"
        },
        "id": "k_32sd8eLATE",
        "outputId": "5b509340-68a9-44fb-c9c3-017a7fe76126"
      },
      "execution_count": null,
      "outputs": [
        {
          "output_type": "stream",
          "name": "stdout",
          "text": [
            "x_train: (4000, 4)\n",
            "x_test: (1000, 4)\n",
            "y_train: (4000,)\n",
            "y_test: (1000,)\n"
          ]
        }
      ]
    },
    {
      "cell_type": "markdown",
      "source": [
        "My data samples are highly imbalanced. I have balanced the dataset and splitted the data into test and train."
      ],
      "metadata": {
        "id": "JV3gwIfLQoiY"
      }
    },
    {
      "cell_type": "code",
      "source": [
        "reviews = df['Score'].value_counts()\n",
        "reviews.plot(kind='bar',title='Reviews', figsize=(10, 5))\n",
        "plt.xlabel('rating')\n",
        "plt.ylabel('count')\n",
        "\n",
        "plt.show()"
      ],
      "metadata": {
        "colab": {
          "base_uri": "https://localhost:8080/",
          "height": 482
        },
        "id": "g3hQvl2kLM4V",
        "outputId": "48641e69-c83c-4412-b399-85d335122c1f"
      },
      "execution_count": null,
      "outputs": [
        {
          "output_type": "display_data",
          "data": {
            "text/plain": [
              "<Figure size 1000x500 with 1 Axes>"
            ],
            "image/png": "[encoded data removed]"
          },
          "metadata": {}
        }
      ]
    },
    {
      "cell_type": "markdown",
      "source": [
        "# Algorithm Selection"
      ],
      "metadata": {
        "id": "rkTl3T1iQggK"
      }
    },
    {
      "cell_type": "code",
      "source": [
        "p_grd_1 = {\n",
        "    'hidden_layer_sizes' : [(50,)],\n",
        "    'activation' : ['relu'],\n",
        "    'solver' : ['adam'],\n",
        "    'alpha' : [0.1]\n",
        "}\n",
        "\n",
        "mdl_1 = sklearn.model_selection.GridSearchCV(sklearn.neural_network.MLPClassifier(), p_grd_1, scoring='accuracy', cv=5, n_jobs=-1)\n",
        "mdl_1.fit(x_train, y_train)\n",
        "print('accuracy = {:.2f}'.format(mdl_1.best_score_))\n",
        "print('effective hyperparameters of MLP = {}'.format(mdl_1.best_params_))"
      ],
      "metadata": {
        "colab": {
          "base_uri": "https://localhost:8080/"
        },
        "id": "K81Vt5F5LO8k",
        "outputId": "d52d620d-1868-4528-f41a-dbcac2bf4eef"
      },
      "execution_count": null,
      "outputs": [
        {
          "output_type": "stream",
          "name": "stdout",
          "text": [
            "accuracy = 0.31\n",
            "effective hyperparameters of MLP = {'activation': 'relu', 'alpha': 0.1, 'hidden_layer_sizes': (50,), 'solver': 'adam'}\n"
          ]
        }
      ]
    },
    {
      "cell_type": "code",
      "source": [
        "p_grd_2 = {\n",
        "     'n_estimators': [100],\n",
        "     'criterion': ['friedman_mse'],\n",
        "     'max_depth': [3],\n",
        "     'learning_rate': [0.1],\n",
        "     'subsample': [1.0],\n",
        "     'min_samples_split': [2],\n",
        "     'min_samples_leaf': [1],\n",
        "     'max_features': [None]\n",
        "}\n",
        "\n",
        "mdl_2 = sklearn.model_selection.GridSearchCV(sklearn.ensemble.GradientBoostingClassifier(), p_grd_2, scoring='accuracy', cv=5, n_jobs=-1)\n",
        "mdl_2.fit(x_train, y_train)\n",
        "print('accuracy = {:.2f}'.format(mdl_2.best_score_))\n",
        "print('effective hyperparameters of GBC = {}'.format(mdl_2.best_params_))"
      ],
      "metadata": {
        "colab": {
          "base_uri": "https://localhost:8080/"
        },
        "id": "RkYEDd-aLUP9",
        "outputId": "0533aa70-7f49-40dd-aab7-f66b4b857b06"
      },
      "execution_count": null,
      "outputs": [
        {
          "output_type": "stream",
          "name": "stdout",
          "text": [
            "accuracy = 0.65\n",
            "effective hyperparameters of GBC = {'criterion': 'friedman_mse', 'learning_rate': 0.1, 'max_depth': 3, 'max_features': None, 'min_samples_leaf': 1, 'min_samples_split': 2, 'n_estimators': 100, 'subsample': 1.0}\n"
          ]
        }
      ]
    },
    {
      "cell_type": "code",
      "source": [
        "p_grd_3 = {\n",
        "     'criterion': ['gini'],\n",
        "     'max_depth': [None],\n",
        "     'min_samples_split': [2],\n",
        "     'min_samples_leaf': [1],\n",
        "     'max_features': [None],\n",
        "     'random_state': [None]\n",
        "}\n",
        "\n",
        "mdl_3 = sklearn.model_selection.GridSearchCV(sklearn.tree.DecisionTreeClassifier(), p_grd_3, scoring='accuracy', cv=5, n_jobs=-1)\n",
        "mdl_3.fit(x_train, y_train)\n",
        "print('accuracy = {:.2f}'.format(mdl_3.best_score_))\n",
        "print('effective hyperparameters of DTC = {}'.format(mdl_3.best_params_))"
      ],
      "metadata": {
        "colab": {
          "base_uri": "https://localhost:8080/"
        },
        "id": "tt-aTkWNLchA",
        "outputId": "009538e4-e30b-47bc-9678-eb151a577edf"
      },
      "execution_count": null,
      "outputs": [
        {
          "output_type": "stream",
          "name": "stdout",
          "text": [
            "accuracy = 0.49\n",
            "effective hyperparameters of DTC = {'criterion': 'gini', 'max_depth': None, 'max_features': None, 'min_samples_leaf': 1, 'min_samples_split': 2, 'random_state': None}\n"
          ]
        }
      ]
    },
    {
      "cell_type": "code",
      "source": [
        "p_grd_4 = {\n",
        "    'n_estimators': [51],\n",
        "    'criterion': ['gini'],\n",
        "    'max_depth': [10],\n",
        "    'min_samples_split': [2],\n",
        "    'min_samples_leaf': [1],\n",
        "    'max_features': ['sqrt']\n",
        "}\n",
        "\n",
        "mdl_4 = sklearn.model_selection.GridSearchCV(sklearn.ensemble.RandomForestClassifier(), p_grd_4, scoring='accuracy', cv=5, n_jobs=-1)\n",
        "mdl_4.fit(x_train, y_train)\n",
        "\n",
        "\n",
        "print('accuracy = {:.2f}'.format(mdl_4.best_score_))\n",
        "print('effective hyperparameters of XGB = {}'.format(mdl_4.best_params_))"
      ],
      "metadata": {
        "colab": {
          "base_uri": "https://localhost:8080/"
        },
        "id": "DOHmt8JELm1d",
        "outputId": "986e6fcd-f111-47e8-948e-b84dd5c43c5e"
      },
      "execution_count": null,
      "outputs": [
        {
          "output_type": "stream",
          "name": "stdout",
          "text": [
            "accuracy = 0.65\n",
            "effective hyperparameters of XGB = {'criterion': 'gini', 'max_depth': 10, 'max_features': 'sqrt', 'min_samples_leaf': 1, 'min_samples_split': 2, 'n_estimators': 51}\n"
          ]
        }
      ]
    },
    {
      "cell_type": "markdown",
      "source": [
        "Aside from the algorithms listed above, I test several more. However, the performance is not improved. As a result, I'm displaying the best-performing algorithms. I have used GridSearch method to find best algortithm."
      ],
      "metadata": {
        "id": "tQLwWkd7Q3KP"
      }
    },
    {
      "cell_type": "code",
      "source": [
        "y_predict = mdl_2.predict(x_test)\n",
        "cm = sklearn.metrics.confusion_matrix(y_test, y_predict)\n",
        "accuracy = sklearn.metrics.accuracy_score(y_test, y_predict)\n",
        "precision, recall, f1, support = sklearn.metrics.precision_recall_fscore_support(y_test, y_predict)\n",
        "print('accuracy =',accuracy)\n",
        "print('precision =', precision)\n",
        "print('recall =', recall)\n",
        "print('support =', support)\n",
        "print('f1 = ', f1)\n"
      ],
      "metadata": {
        "colab": {
          "base_uri": "https://localhost:8080/"
        },
        "id": "IxRmVhJfLyUQ",
        "outputId": "121670e6-e7bd-49e4-caf6-bb0fd166c3f3"
      },
      "execution_count": null,
      "outputs": [
        {
          "output_type": "stream",
          "name": "stdout",
          "text": [
            "accuracy = 0.656\n",
            "precision = [0.4        0.         0.11111111 0.         0.6827957 ]\n",
            "recall = [0.24691358 0.         0.01388889 0.         0.97692308]\n",
            "support = [ 81  52  72 145 650]\n",
            "f1 =  [0.30534351 0.         0.02469136 0.         0.80379747]\n"
          ]
        }
      ]
    },
    {
      "cell_type": "markdown",
      "source": [
        "GradientBoostingClassifier was chosen because it provides greater accuracy, precision, recall, and support score than other algorithms."
      ],
      "metadata": {
        "id": "6464TiMgROVO"
      }
    },
    {
      "cell_type": "markdown",
      "source": [
        "I built an NLP pipeline to determine the sentiment of customer reviews and predict product ratings. I worked on tasks such as loading data, data preprocessing, NLTK tagging, sentiment analysis, splitting data, balancing data, algorithm selection, and hyperparameter tuning and prediction in this pipeline."
      ],
      "metadata": {
        "id": "qBslsFuiRWmG"
      }
    }
  ]
}